{
 "cells": [
  {
   "cell_type": "code",
   "execution_count": 1,
   "metadata": {},
   "outputs": [
    {
     "name": "stdout",
     "output_type": "stream",
     "text": [
      "Series 1 mean: by builtin 24.63701221272971,  by formula: 24.637012212729715 \n",
      "Series 2 mean: by builtin 48.86606878548826,  by formula: 48.86606878548826 \n",
      "Series 3 mean: by builtin 100.07491498254205,  by formula: 100.07491498254201 \n",
      "Series 1 median: by builtin 24.978773991233872,  by formula: 24.978773991233872 \n",
      "Series 2 median: by builtin 49.14707771431592,  by formula: 49.14707771431592 \n",
      "Series 3 median: by builtin 105.00430645848081,  by formula: 105.00430645848081 \n",
      "Series 1 variance: by builtin 29.935733887518364,  by formula: 29.93573388751836 \n",
      "Series 2 variance: by builtin 110.49111803374909,  by formula: 110.49111803374913 \n",
      "Series 3 variance: by builtin 1025.7427418354189,  by formula: 1025.7427418354193 \n",
      "Series 1 std: by builtin 5.471355763201509,  by formula: 5.471355763201508 \n",
      "Series 2 std: by builtin 10.511475540272597,  by formula: 10.511475540272599 \n",
      "Series 3 std: by builtin 32.02721876522248,  by formula: 32.027218765222486 \n",
      "Series 1 st. err: by builtin 0.5471355763201509,  by formula: 0.5471355763201509 \n",
      "Series 2 st. err: by builtin 1.0511475540272597,  by formula: 1.05114755402726 \n",
      "Series 3 st. err: by builtin 2.264666357143386,  by formula: 2.2646663571433865 \n"
     ]
    }
   ],
   "source": [
    "import numpy as np\n",
    "\n",
    "import statistics\n",
    "\n",
    "testseries1=np.random.normal(25, 5, 100)\n",
    "testseries2=np.random.normal(20, 5, 100) + np.random.normal(30, 10, 100)\n",
    "testseries3=np.append(np.random.normal(75, 25, 100), np.random.normal(125, 15, 100))\n",
    "\n",
    "\n",
    "print(\"Series 1 mean: by builtin {},  by formula: {} \".format(np.mean(testseries1),sum(testseries1)/len(testseries1)))\n",
    "print(\"Series 2 mean: by builtin {},  by formula: {} \".format(np.mean(testseries2),sum(testseries2)/len(testseries2)))\n",
    "print(\"Series 3 mean: by builtin {},  by formula: {} \".format(np.mean(testseries3),sum(testseries3)/len(testseries3)))\n",
    "\n",
    "\n",
    "print(\"Series 1 median: by builtin {},  by formula: {} \".format(statistics.median(testseries1),np.median(testseries1) ))\n",
    "print(\"Series 2 median: by builtin {},  by formula: {} \".format(statistics.median(testseries2),np.median(testseries2) ))\n",
    "print(\"Series 3 median: by builtin {},  by formula: {} \".format(statistics.median(testseries3),np.median(testseries3) ))\n",
    "\n",
    "\n",
    "print(\"Series 1 variance: by builtin {},  by formula: {} \".format(np.var(testseries1, ddof=1),\n",
    "    sum((testseries1-sum(testseries1)/len(testseries1))**2)/(len(testseries1)-1)))\n",
    "\n",
    "print(\"Series 2 variance: by builtin {},  by formula: {} \".format(np.var(testseries2, ddof=1),\n",
    "    sum((testseries2-sum(testseries2)/len(testseries2))**2)/(len(testseries2)-1)))\n",
    "\n",
    "print(\"Series 3 variance: by builtin {},  by formula: {} \".format(np.var(testseries3, ddof=1),\n",
    "    sum((testseries3-sum(testseries3)/len(testseries3))**2)/(len(testseries3)-1)))\n",
    "\n",
    "\n",
    "\n",
    "print(\"Series 1 std: by builtin {},  by formula: {} \".format(np.std(testseries1, ddof=1),\n",
    "    np.sqrt(sum((testseries1-sum(testseries1)/len(testseries1))**2)/(len(testseries1)-1))))\n",
    "\n",
    "print(\"Series 2 std: by builtin {},  by formula: {} \".format(np.std(testseries2, ddof=1),\n",
    "    np.sqrt(sum((testseries2-sum(testseries2)/len(testseries2))**2)/(len(testseries2)-1))))\n",
    "\n",
    "print(\"Series 3 std: by builtin {},  by formula: {} \".format(np.std(testseries3, ddof=1),\n",
    "    np.sqrt(sum((testseries3-sum(testseries3)/len(testseries3))**2)/(len(testseries3)-1))))\n",
    "\n",
    "\n",
    "print(\"Series 1 st. err: by builtin {},  by formula: {} \".format(np.std(testseries1, ddof=1)/np.sqrt(len(testseries1)),\n",
    "    np.sqrt(sum((testseries1-sum(testseries1)/len(testseries1))**2)/(len(testseries1)-1)) /np.sqrt(len(testseries1)) ))\n",
    "\n",
    "print(\"Series 2 st. err: by builtin {},  by formula: {} \".format(np.std(testseries2, ddof=1)/np.sqrt(len(testseries2)),\n",
    "    np.sqrt(sum((testseries2-sum(testseries2)/len(testseries2))**2)/(len(testseries2)-1)) /np.sqrt(len(testseries2)) ))\n",
    "\n",
    "print(\"Series 3 st. err: by builtin {},  by formula: {} \".format(np.std(testseries3, ddof=1)/np.sqrt(len(testseries3)),\n",
    "    np.sqrt(sum((testseries3-sum(testseries3)/len(testseries3))**2)/(len(testseries3)-1)) /np.sqrt(len(testseries3)) ))\n"
   ]
  },
  {
   "cell_type": "code",
   "execution_count": null,
   "metadata": {},
   "outputs": [],
   "source": []
  }
 ],
 "metadata": {
  "kernelspec": {
   "display_name": "Python 3",
   "language": "python",
   "name": "python3"
  },
  "language_info": {
   "codemirror_mode": {
    "name": "ipython",
    "version": 3
   },
   "file_extension": ".py",
   "mimetype": "text/x-python",
   "name": "python",
   "nbconvert_exporter": "python",
   "pygments_lexer": "ipython3",
   "version": "3.7.1"
  }
 },
 "nbformat": 4,
 "nbformat_minor": 2
}
